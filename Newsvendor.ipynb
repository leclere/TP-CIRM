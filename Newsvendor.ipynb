{
 "cells": [
  {
   "cell_type": "markdown",
   "metadata": {
    "deletable": false,
    "editable": false,
    "nbgrader": {
     "cell_type": "markdown",
     "checksum": "956bef286ff47c482d4cc69222791d82",
     "grade": false,
     "grade_id": "cell-90662a802d9ab97b",
     "locked": true,
     "schema_version": 3,
     "solution": false,
     "task": false
    }
   },
   "source": [
    "# TP Newsvendor problem\n"
   ]
  },
  {
   "cell_type": "markdown",
   "metadata": {
    "deletable": false,
    "editable": false,
    "nbgrader": {
     "cell_type": "markdown",
     "checksum": "87fc25b714aad24108dd139a1b420b76",
     "grade": false,
     "grade_id": "cell-0abc874e0e1560a0",
     "locked": true,
     "schema_version": 3,
     "solution": false,
     "task": false
    }
   },
   "source": [
    "The newsvendor problem consists in buying $u\\geq 0$ newspaper in the morning for a cost $c$, and selling them for a price $p$. You can sell only up to an unknown demand $d$ (and up to what was bought). Hence the problem we want to solve is\n",
    "\n",
    "$$ \\min_{u\\geq 0} \\qquad  \\mathbb{E}[cu - p \\min(u,d)] $$"
   ]
  },
  {
   "cell_type": "code",
   "execution_count": null,
   "metadata": {},
   "outputs": [],
   "source": [
    "using Statistics"
   ]
  },
  {
   "cell_type": "markdown",
   "metadata": {
    "deletable": false,
    "editable": false,
    "nbgrader": {
     "cell_type": "markdown",
     "checksum": "c7d6f2354166ee67c25c53fdb0a0d152",
     "grade": false,
     "grade_id": "cell-c61937a54ac98257",
     "locked": true,
     "schema_version": 3,
     "solution": false,
     "task": false
    }
   },
   "source": [
    "### Question 1 \n",
    "\n",
    "Find analytically the optimal value and control for the newsvendor problem where $c = 1$, $p = 2$ and a uniform demand over $[5, 15]$."
   ]
  },
  {
   "cell_type": "markdown",
   "metadata": {
    "deletable": false,
    "nbgrader": {
     "cell_type": "markdown",
     "checksum": "f0beaf489184c818c374285a0675229d",
     "grade": true,
     "grade_id": "cell-5124c05e8dc658c0",
     "locked": false,
     "points": 2,
     "schema_version": 3,
     "solution": true,
     "task": false
    },
    "tags": [
     "solution"
    ]
   },
   "source": [
    "YOUR ANSWER HERE"
   ]
  },
  {
   "cell_type": "markdown",
   "metadata": {
    "deletable": false,
    "editable": false,
    "nbgrader": {
     "cell_type": "markdown",
     "checksum": "01b75ee815a5b1a6ae4d0897e96ee9f9",
     "grade": false,
     "grade_id": "cell-24a1b73258f7a485",
     "locked": true,
     "schema_version": 3,
     "solution": false,
     "task": false
    }
   },
   "source": [
    "### Question 2 \n",
    "\n",
    "Write a Julia function `EvalMV(u,Nmc)` evaluating by Monte-Carlo the empirical cost of a given control `u` on `Nmc` realizations. \n",
    "\n",
    "You can use the julia functions `rand` and `mean`."
   ]
  },
  {
   "cell_type": "code",
   "execution_count": null,
   "metadata": {
    "deletable": false,
    "nbgrader": {
     "cell_type": "code",
     "checksum": "52bc0743dee08f1acc95b8b7a4c8d1fa",
     "grade": true,
     "grade_id": "cell-5e22252e269dd719",
     "locked": false,
     "points": 2,
     "schema_version": 3,
     "solution": true,
     "task": false
    },
    "tags": [
     "solution"
    ]
   },
   "outputs": [],
   "source": [
    "function EvalMC(u,Nmc)\n",
    "    #YOUR CODE HERE\n",
    "    error(\"to be implemented\")\n",
    "end\n",
    "\n",
    "EvalMC(10,1000)"
   ]
  },
  {
   "cell_type": "markdown",
   "metadata": {
    "deletable": false,
    "editable": false,
    "nbgrader": {
     "cell_type": "markdown",
     "checksum": "102769f2d98c79256a17145a09378282",
     "grade": false,
     "grade_id": "cell-a8d2bae3fc2c2f0f",
     "locked": true,
     "schema_version": 3,
     "solution": false,
     "task": false
    }
   },
   "source": [
    "### Question 3 \n",
    "\n",
    "Check by simulation that the optimal control found in Q1 yields the optimal cost +/- 0.1, with precision 95\\%.\n",
    "\n",
    "You can use the julia function `std` to get the standard deviation of a list of values."
   ]
  },
  {
   "cell_type": "code",
   "execution_count": null,
   "metadata": {
    "deletable": false,
    "nbgrader": {
     "cell_type": "code",
     "checksum": "2b4bef9b1644f93bb357dd27325c4fcb",
     "grade": true,
     "grade_id": "cell-7ec004d5b42219a6",
     "locked": false,
     "points": 2,
     "schema_version": 3,
     "solution": true,
     "task": false
    },
    "tags": [
     "solution"
    ]
   },
   "outputs": [],
   "source": [
    "#YOUR CODE HERE\n",
    "error(\"to be implemented\")"
   ]
  },
  {
   "cell_type": "markdown",
   "metadata": {},
   "source": [
    "### Question 4 \n",
    "\n",
    "Check that the SAA problem with Nmc scenarios is a Linear Programm, and write a function that solve it using `JuMP` and a linear solver like `GLPK`."
   ]
  },
  {
   "cell_type": "code",
   "execution_count": null,
   "metadata": {},
   "outputs": [],
   "source": [
    "#import Pkg\n",
    "#Pkg.add(\"JuMP\")\n",
    "#Pkg.add(\"GLPK\")"
   ]
  },
  {
   "cell_type": "code",
   "execution_count": null,
   "metadata": {},
   "outputs": [],
   "source": [
    "using JuMP, GLPK"
   ]
  },
  {
   "cell_type": "code",
   "execution_count": null,
   "metadata": {
    "deletable": false,
    "nbgrader": {
     "cell_type": "code",
     "checksum": "e6c05eb720ae1e5ea5ca8cac11da50b7",
     "grade": true,
     "grade_id": "cell-afb6bfd4cc4e9469",
     "locked": false,
     "points": 2,
     "schema_version": 3,
     "solution": true,
     "task": false
    },
    "tags": [
     "solution"
    ]
   },
   "outputs": [],
   "source": [
    "OPTIMIZER = GLPK.Optimizer   \n",
    "\n",
    "function SAAapprox(Nmc)\n",
    "    # solve a SAA problem with Nmc scenarios\n",
    "    # return the (v,u) where\n",
    "    # v is the value of the objective\n",
    "    # u is the value of the optimal control\n",
    "    \n",
    "    #YOUR CODE HERE\n",
    "    error(\"to be implemented\")\n",
    "end\n",
    "            \n",
    "SAAapprox(30)"
   ]
  },
  {
   "cell_type": "markdown",
   "metadata": {
    "deletable": false,
    "editable": false,
    "nbgrader": {
     "cell_type": "markdown",
     "checksum": "682746f2abae13163da7866de17235ef",
     "grade": false,
     "grade_id": "cell-ced71b9d32311723",
     "locked": true,
     "schema_version": 3,
     "solution": false,
     "task": false
    }
   },
   "source": [
    "### Question 5 \n",
    "\n",
    "Show numerically that the SAA value (resp. control) converges almost surely to the optimal value (resp. control)."
   ]
  },
  {
   "cell_type": "code",
   "execution_count": null,
   "metadata": {},
   "outputs": [],
   "source": [
    "# Pkg.add(\"Plots\")\n",
    "using Plots\n",
    "plotly()"
   ]
  },
  {
   "cell_type": "code",
   "execution_count": null,
   "metadata": {
    "deletable": false,
    "nbgrader": {
     "cell_type": "code",
     "checksum": "ee34a2dd07e2344d3d9202e9657f1ee4",
     "grade": true,
     "grade_id": "cell-f1b25fe5e20fb875",
     "locked": false,
     "points": 2,
     "schema_version": 3,
     "solution": true,
     "task": false
    },
    "tags": [
     "solution"
    ]
   },
   "outputs": [],
   "source": [
    "controls = []\n",
    "values = []\n",
    "\n",
    "n_points = collect(1:50:5000)\n",
    "\n",
    "for n in 1:50:5000\n",
    "    #YOUR CODE HERE\n",
    "    error(\"to be implemented\")\n",
    "    append!(controls, u)\n",
    "    append!(values, v)\n",
    "end\n",
    "\n",
    "plot(n_points, controls, w=1, title =\"control values\")"
   ]
  },
  {
   "cell_type": "markdown",
   "metadata": {},
   "source": [
    "### Question 6 (Optional) \n",
    "\n",
    "Numerically check that the expectation of SAA value is a negatively biased estimator."
   ]
  },
  {
   "cell_type": "markdown",
   "metadata": {},
   "source": [
    "In the previous question we saw that the SAA estimator for a given $n$ vary from one run to the next. "
   ]
  },
  {
   "cell_type": "code",
   "execution_count": null,
   "metadata": {
    "deletable": false,
    "nbgrader": {
     "cell_type": "code",
     "checksum": "3af0887637c6f42ebb332b494accbbea",
     "grade": true,
     "grade_id": "cell-2ae2321267c74c71",
     "locked": false,
     "points": 0,
     "schema_version": 3,
     "solution": true,
     "task": false
    }
   },
   "outputs": [],
   "source": [
    "#YOUR CODE HERE\n",
    "error(\"to be implemented\")"
   ]
  },
  {
   "cell_type": "markdown",
   "metadata": {
    "deletable": false,
    "editable": false,
    "nbgrader": {
     "cell_type": "markdown",
     "checksum": "30438f80497cac4e56061e32315d6b11",
     "grade": false,
     "grade_id": "cell-e1a8427d68d23eb9",
     "locked": true,
     "schema_version": 3,
     "solution": false,
     "task": false
    }
   },
   "source": [
    "Tested with \n",
    "\n",
    "Julia 1.2.0 / JuMP 0.20\n",
    "\n",
    "Julia 1.0.5 / JuMP 0.20"
   ]
  }
 ],
 "metadata": {
  "@webio": {
   "lastCommId": null,
   "lastKernelId": null
  },
  "kernelspec": {
   "display_name": "Julia 1.0.5",
   "language": "julia",
   "name": "julia-1.0"
  },
  "language_info": {
   "file_extension": ".jl",
   "mimetype": "application/julia",
   "name": "julia",
   "version": "1.0.5"
  }
 },
 "nbformat": 4,
 "nbformat_minor": 4
}

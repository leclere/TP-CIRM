{
 "cells": [
  {
   "cell_type": "markdown",
   "metadata": {
    "toc": true
   },
   "source": [
    "<h1>Table of Contents<span class=\"tocSkip\"></span></h1>\n",
    "<div class=\"toc\"><ul class=\"toc-item\"><li><span><a href=\"#The-flower-girl-problem\" data-toc-modified-id=\"The-flower-girl-problem-1\"><span class=\"toc-item-num\">1&nbsp;&nbsp;</span>The flower girl problem</a></span><ul class=\"toc-item\"><li><span><a href=\"#Question-1\" data-toc-modified-id=\"Question-1-1.1\"><span class=\"toc-item-num\">1.1&nbsp;&nbsp;</span>Question 1</a></span><ul class=\"toc-item\"><li><span><a href=\"#Question-1.1\" data-toc-modified-id=\"Question-1.1-1.1.1\"><span class=\"toc-item-num\">1.1.1&nbsp;&nbsp;</span>Question 1.1</a></span></li><li><span><a href=\"#Question-1.2\" data-toc-modified-id=\"Question-1.2-1.1.2\"><span class=\"toc-item-num\">1.1.2&nbsp;&nbsp;</span>Question 1.2</a></span></li></ul></li><li><span><a href=\"#Question-2\" data-toc-modified-id=\"Question-2-1.2\"><span class=\"toc-item-num\">1.2&nbsp;&nbsp;</span>Question 2</a></span><ul class=\"toc-item\"><li><span><a href=\"#Question-2.1\" data-toc-modified-id=\"Question-2.1-1.2.1\"><span class=\"toc-item-num\">1.2.1&nbsp;&nbsp;</span>Question 2.1</a></span></li><li><span><a href=\"#Question-2.2\" data-toc-modified-id=\"Question-2.2-1.2.2\"><span class=\"toc-item-num\">1.2.2&nbsp;&nbsp;</span>Question 2.2</a></span></li><li><span><a href=\"#Question-2.3\" data-toc-modified-id=\"Question-2.3-1.2.3\"><span class=\"toc-item-num\">1.2.3&nbsp;&nbsp;</span>Question 2.3</a></span></li><li><span><a href=\"#Question-2.4\" data-toc-modified-id=\"Question-2.4-1.2.4\"><span class=\"toc-item-num\">1.2.4&nbsp;&nbsp;</span>Question 2.4</a></span></li><li><span><a href=\"#Question-2.5-(Optional)\" data-toc-modified-id=\"Question-2.5-(Optional)-1.2.5\"><span class=\"toc-item-num\">1.2.5&nbsp;&nbsp;</span>Question 2.5 (Optional)</a></span></li></ul></li><li><span><a href=\"#Question-4\" data-toc-modified-id=\"Question-4-1.3\"><span class=\"toc-item-num\">1.3&nbsp;&nbsp;</span>Question 4</a></span><ul class=\"toc-item\"><li><span><a href=\"#Question-4.1\" data-toc-modified-id=\"Question-4.1-1.3.1\"><span class=\"toc-item-num\">1.3.1&nbsp;&nbsp;</span>Question 4.1</a></span></li><li><span><a href=\"#Question-4.2\" data-toc-modified-id=\"Question-4.2-1.3.2\"><span class=\"toc-item-num\">1.3.2&nbsp;&nbsp;</span>Question 4.2</a></span></li><li><span><a href=\"#Question-4.3\" data-toc-modified-id=\"Question-4.3-1.3.3\"><span class=\"toc-item-num\">1.3.3&nbsp;&nbsp;</span>Question 4.3</a></span></li></ul></li><li><span><a href=\"#Question-5-Dynamic-Programming\" data-toc-modified-id=\"Question-5-Dynamic-Programming-1.4\"><span class=\"toc-item-num\">1.4&nbsp;&nbsp;</span>Question 5 Dynamic Programming</a></span><ul class=\"toc-item\"><li><span><a href=\"#Question-5.1\" data-toc-modified-id=\"Question-5.1-1.4.1\"><span class=\"toc-item-num\">1.4.1&nbsp;&nbsp;</span>Question 5.1</a></span></li><li><span><a href=\"#Question-5.2\" data-toc-modified-id=\"Question-5.2-1.4.2\"><span class=\"toc-item-num\">1.4.2&nbsp;&nbsp;</span>Question 5.2</a></span></li><li><span><a href=\"#Question-5.3\" data-toc-modified-id=\"Question-5.3-1.4.3\"><span class=\"toc-item-num\">1.4.3&nbsp;&nbsp;</span>Question 5.3</a></span></li></ul></li><li><span><a href=\"#Question-3-(Optional)\" data-toc-modified-id=\"Question-3-(Optional)-1.5\"><span class=\"toc-item-num\">1.5&nbsp;&nbsp;</span>Question 3 (Optional)</a></span><ul class=\"toc-item\"><li><span><a href=\"#Question-3.1-(Optional)\" data-toc-modified-id=\"Question-3.1-(Optional)-1.5.1\"><span class=\"toc-item-num\">1.5.1&nbsp;&nbsp;</span>Question 3.1 (Optional)</a></span></li><li><span><a href=\"#Question-3.2-(Optional)\" data-toc-modified-id=\"Question-3.2-(Optional)-1.5.2\"><span class=\"toc-item-num\">1.5.2&nbsp;&nbsp;</span>Question 3.2 (Optional)</a></span></li><li><span><a href=\"#Question-3.3-(Optional)\" data-toc-modified-id=\"Question-3.3-(Optional)-1.5.3\"><span class=\"toc-item-num\">1.5.3&nbsp;&nbsp;</span>Question 3.3 (Optional)</a></span></li><li><span><a href=\"#Question-3.4-(Optional)\" data-toc-modified-id=\"Question-3.4-(Optional)-1.5.4\"><span class=\"toc-item-num\">1.5.4&nbsp;&nbsp;</span>Question 3.4 (Optional)</a></span></li></ul></li><li><span><a href=\"#Fin-de-question-4\" data-toc-modified-id=\"Fin-de-question-4-1.6\"><span class=\"toc-item-num\">1.6&nbsp;&nbsp;</span>Fin de question 4</a></span><ul class=\"toc-item\"><li><span><a href=\"#Question-4.4-(Optional)\" data-toc-modified-id=\"Question-4.4-(Optional)-1.6.1\"><span class=\"toc-item-num\">1.6.1&nbsp;&nbsp;</span>Question 4.4 (Optional)</a></span></li><li><span><a href=\"#Question-4.5-(Optional)\" data-toc-modified-id=\"Question-4.5-(Optional)-1.6.2\"><span class=\"toc-item-num\">1.6.2&nbsp;&nbsp;</span>Question 4.5 (Optional)</a></span></li><li><span><a href=\"#Question-4.6-(Optional)\" data-toc-modified-id=\"Question-4.6-(Optional)-1.6.3\"><span class=\"toc-item-num\">1.6.3&nbsp;&nbsp;</span>Question 4.6 (Optional)</a></span></li></ul></li></ul></li></ul></div>"
   ]
  },
  {
   "cell_type": "markdown",
   "metadata": {
    "deletable": false,
    "editable": false,
    "nbgrader": {
     "cell_type": "markdown",
     "checksum": "ce35f7486787292f53c55df02127a65e",
     "grade": false,
     "grade_id": "cell-3b5c45c98c441179",
     "locked": true,
     "schema_version": 3,
     "solution": false,
     "task": false
    }
   },
   "source": [
    "# The flower girl problem"
   ]
  },
  {
   "cell_type": "markdown",
   "metadata": {
    "deletable": false,
    "editable": false,
    "nbgrader": {
     "cell_type": "markdown",
     "checksum": "27b70a611a6b7be0915552bb93efadd0",
     "grade": false,
     "grade_id": "cell-4fb61d449cc1a0b4",
     "locked": true,
     "schema_version": 3,
     "solution": false,
     "task": false
    }
   },
   "source": [
    "Assume that every morning you can buy some flower at cost $c$, during the day you can sell them at price $p$. At the end of the day you can keep the flowers for the next day.\n",
    "During each day the demand is an integer uniformly taken between $1$ and $D$.\n",
    "\n",
    "At the start of your first day you have no flower in stock. At the end of the $T^{th}$ day all stock is lost. You want to minimize your expected loss summed over the $T$ days. We will denote $u_t$ the number of flower bought at the beginning of day $t$. We assume that $u_t\\in [0,U]$ (in particular we assume that it is continuous).\n",
    "\n",
    "The parameters are set as follow."
   ]
  },
  {
   "cell_type": "code",
   "execution_count": null,
   "metadata": {},
   "outputs": [],
   "source": [
    "# If not installed yet\n",
    "# import Pkg\n",
    "# Pkg.add(\"JuMP\")\n",
    "# Pkg.add(\"GLPK\")"
   ]
  },
  {
   "cell_type": "code",
   "execution_count": null,
   "metadata": {
    "deletable": false,
    "editable": false,
    "nbgrader": {
     "cell_type": "code",
     "checksum": "baa2df68ca7f8f21f8ae41bfb5dae57f",
     "grade": false,
     "grade_id": "cell-8b44c3425eb6a2ff",
     "locked": true,
     "schema_version": 3,
     "solution": false,
     "task": false
    }
   },
   "outputs": [],
   "source": [
    "using JuMP, GLPK, Statistics\n",
    "\n",
    "OPTIMIZER = GLPK.Optimizer\n",
    "\n",
    "c = 1\n",
    "p = 2\n",
    "D = 10 \n",
    "U = 7 "
   ]
  },
  {
   "cell_type": "markdown",
   "metadata": {
    "deletable": false,
    "editable": false,
    "heading_collapsed": true,
    "nbgrader": {
     "cell_type": "markdown",
     "checksum": "cc0b13e4874cfc7bc379eb0cb2231f3e",
     "grade": false,
     "grade_id": "cell-5426b49c2e22cc04",
     "locked": true,
     "schema_version": 3,
     "solution": false,
     "task": false
    }
   },
   "source": [
    "## Question 1"
   ]
  },
  {
   "cell_type": "markdown",
   "metadata": {
    "deletable": false,
    "editable": false,
    "hidden": true,
    "nbgrader": {
     "cell_type": "markdown",
     "checksum": "f5502bc3d519b7a64ada83ae2d7ed1d1",
     "grade": false,
     "grade_id": "cell-a04ec1f157fa9592",
     "locked": true,
     "schema_version": 3,
     "solution": false,
     "task": false
    }
   },
   "source": [
    "### Question 1.1\n",
    "\n",
    "If $T=1$, recognize the flower girl problem as a known optimization problem ? "
   ]
  },
  {
   "cell_type": "markdown",
   "metadata": {
    "deletable": false,
    "hidden": true,
    "nbgrader": {
     "cell_type": "markdown",
     "checksum": "fa344cdc76b8ab67aedf6d4915ab94d3",
     "grade": true,
     "grade_id": "cell-19601ccf7e279aca",
     "locked": false,
     "points": 0,
     "schema_version": 3,
     "solution": true,
     "task": false
    }
   },
   "source": [
    "YOUR ANSWER HERE"
   ]
  },
  {
   "cell_type": "markdown",
   "metadata": {
    "deletable": false,
    "editable": false,
    "hidden": true,
    "nbgrader": {
     "cell_type": "markdown",
     "checksum": "05beb1ba5ebafd4f6bf84db00565c06c",
     "grade": false,
     "grade_id": "cell-a48b40722a3f045f",
     "locked": true,
     "schema_version": 3,
     "solution": false,
     "task": false
    }
   },
   "source": [
    "### Question 1.2\n",
    "\n",
    "Write the extensive formulation of the problem as an LP and solve it using `JuMP` and a linear solver."
   ]
  },
  {
   "cell_type": "code",
   "execution_count": null,
   "metadata": {
    "deletable": false,
    "hidden": true,
    "nbgrader": {
     "cell_type": "code",
     "checksum": "0c836614debe1ba0673cc31087937a04",
     "grade": true,
     "grade_id": "cell-62ad9151fc259322",
     "locked": false,
     "points": 0,
     "schema_version": 3,
     "solution": true,
     "task": false
    }
   },
   "outputs": [],
   "source": [
    "m = Model(with_optimizer(OPTIMIZER))\n",
    "\n",
    "T = 1\n",
    "\n",
    "d = zeros(T,D)\n",
    "for s = 1:D\n",
    "    d[:,s] .= s # demand per scenario\n",
    "end\n",
    "\n",
    "#YOUR CODE HERE\n",
    "error(\"to be implemented\")\n",
    "\n",
    "optimize!(m)\n",
    "objective_value(m)"
   ]
  },
  {
   "cell_type": "markdown",
   "metadata": {
    "deletable": false,
    "editable": false,
    "heading_collapsed": true,
    "nbgrader": {
     "cell_type": "markdown",
     "checksum": "0b75998b9c7db6e240fd3e4ce50e4fd8",
     "grade": false,
     "grade_id": "cell-269ff1e5e3b6ff16",
     "locked": true,
     "schema_version": 3,
     "solution": false,
     "task": false
    }
   },
   "source": [
    "## Question 2\n",
    "\n",
    "We consider now that $T=2$."
   ]
  },
  {
   "cell_type": "markdown",
   "metadata": {
    "deletable": false,
    "editable": false,
    "hidden": true,
    "nbgrader": {
     "cell_type": "markdown",
     "checksum": "352004bc753e6fbf12c8772a67bc87f6",
     "grade": false,
     "grade_id": "cell-086f3b45de181463",
     "locked": true,
     "schema_version": 3,
     "solution": false,
     "task": false
    }
   },
   "source": [
    "### Question 2.1 \n",
    "From Question 1 deduce an upper bound to this problem."
   ]
  },
  {
   "cell_type": "markdown",
   "metadata": {
    "deletable": false,
    "hidden": true,
    "nbgrader": {
     "cell_type": "markdown",
     "checksum": "b37727e3c66a814c0b7317b638c4b02c",
     "grade": true,
     "grade_id": "cell-d76e3a7800a1389e",
     "locked": false,
     "points": 0,
     "schema_version": 3,
     "solution": true,
     "task": false
    }
   },
   "source": [
    "YOUR ANSWER HERE"
   ]
  },
  {
   "cell_type": "markdown",
   "metadata": {
    "deletable": false,
    "editable": false,
    "hidden": true,
    "nbgrader": {
     "cell_type": "markdown",
     "checksum": "8261379c1b0372571bc0759b8a7e2f2d",
     "grade": false,
     "grade_id": "cell-2b61c60eca9234a4",
     "locked": true,
     "schema_version": 3,
     "solution": false,
     "task": false
    }
   },
   "source": [
    "### Question 2.2\n",
    "Solve the flower-girl problem with a stochastic programming approach, by solving the associated extensive formulation."
   ]
  },
  {
   "cell_type": "code",
   "execution_count": null,
   "metadata": {
    "deletable": false,
    "hidden": true,
    "nbgrader": {
     "cell_type": "code",
     "checksum": "4b095a15bb71dd62bb1eb28927106975",
     "grade": true,
     "grade_id": "cell-49b019f77f1fa48",
     "locked": false,
     "points": 2,
     "schema_version": 3,
     "solution": true,
     "task": false
    }
   },
   "outputs": [],
   "source": [
    "\n",
    "\n",
    "T = 2\n",
    "\n",
    "d = zeros(T,D) #d(t,s) is the demand for realisation s at time t\n",
    "for s in 1:D\n",
    "    d[:,s] .= s \n",
    "end\n",
    "\n",
    "\n",
    "m = Model(with_optimizer(OPTIMIZER))\n",
    "\n",
    "#YOUR CODE HERE\n",
    "error(\"to be implemented\")\n",
    "\n",
    "optimize!(m)\n",
    "objective_value(m)\n",
    "\n"
   ]
  },
  {
   "cell_type": "markdown",
   "metadata": {
    "deletable": false,
    "editable": false,
    "nbgrader": {
     "cell_type": "markdown",
     "checksum": "1ecac8b890f37f4edc7a9f08a7039e06",
     "grade": false,
     "grade_id": "cell-f6586972911f53d",
     "locked": true,
     "schema_version": 3,
     "solution": false,
     "task": false
    }
   },
   "source": [
    "### Question 2.3 \n",
    "\n",
    "We give the flower-girl problem for $2$ time step with splitted variables.\n",
    "Check that you obtain the same value as before.  "
   ]
  },
  {
   "cell_type": "code",
   "execution_count": null,
   "metadata": {
    "deletable": false,
    "editable": false,
    "nbgrader": {
     "cell_type": "code",
     "checksum": "e53cdbb6369e233051b005fc149f7002",
     "grade": false,
     "grade_id": "cell-5cd9af47e32a0d",
     "locked": true,
     "schema_version": 3,
     "solution": false,
     "task": false
    }
   },
   "outputs": [],
   "source": [
    "T = 2\n",
    "\n",
    "d = zeros(T,D,D) # d(t,s,ss) is the demand for scenario (s,ss)\n",
    "for s = 1:D, ss = 1:D\n",
    "    d[1,s,ss] = s\n",
    "    d[2,s,ss] = ss\n",
    "end\n",
    "\n",
    "\n",
    "m = Model(with_optimizer(OPTIMIZER))\n",
    "\n",
    "@variables(m,begin\n",
    "    0<= u[1:T,1:D,1:D] <= U  # bought flowers at beginning of day t\n",
    "    v[1:T,1:D,1:D] >= 0      # sold flowers during day t\n",
    "    end)     \n",
    "\n",
    "@objective(m, Min, 1/D^2*sum(c*u[t,s,ss]-p*v[t,s,ss] for t = 1:T, s = 1:D, ss = 1:D))\n",
    "\n",
    "for t = 1:T, s = 1:D, ss = 1:D\n",
    "    @constraint(m, v[t,s,ss] <= d[t,s,ss])                     # we sell no more than demand\n",
    "    @constraint(m, sum(v[tt,s,ss]-u[tt,s,ss] for tt=1:t) <= 0) # we sell no more than stock\n",
    "end\n",
    "\n",
    "    ### u1 is deterministic - i.e. the same for all scenarios\n",
    "for s = 1:D, ss = 1:D\n",
    "    @constraint(m,u[1,s,ss] == 1/D^2 *sum( u[1,t,tt] for t=1:D, tt=1:D))\n",
    "end\n",
    "    ### u2 and v1 are d1 measurable - i.e. does not differentiate on ss\n",
    "for s = 1:D, ss = 1:D\n",
    "    @constraint(m,u[2,s,ss] == 1/D *sum( u[2,s,tt] for tt=1:D))\n",
    "    @constraint(m,v[1,s,ss] == 1/D *sum( v[1,s,tt] for tt=1:D))\n",
    "end\n",
    "       \n",
    "optimize!(m)\n",
    "@show(objective_value(m))\n",
    "round.(value.(u[1,:,:]),digits=2)\n",
    "                       "
   ]
  },
  {
   "cell_type": "markdown",
   "metadata": {
    "deletable": false,
    "editable": false,
    "heading_collapsed": true,
    "nbgrader": {
     "cell_type": "markdown",
     "checksum": "d5c73f9cd91cef52795ee59cfce8641a",
     "grade": false,
     "grade_id": "cell-46567b87fe7293",
     "locked": true,
     "schema_version": 3,
     "solution": false,
     "task": false
    }
   },
   "source": [
    "### Question 2.4\n",
    "\n",
    "By suppressing constraints in the splitted version, find the lower-bound given by the anticipative approach.\n"
   ]
  },
  {
   "cell_type": "code",
   "execution_count": null,
   "metadata": {
    "deletable": false,
    "hidden": true,
    "nbgrader": {
     "cell_type": "code",
     "checksum": "fccf0241c415e684c4b9598f9eaeb843",
     "grade": true,
     "grade_id": "cell-58334dbf230fe6",
     "locked": false,
     "points": 0,
     "schema_version": 3,
     "solution": true,
     "task": false
    }
   },
   "outputs": [],
   "source": [
    "T = 2\n",
    "\n",
    "d = zeros(T,D,D) # d(t,s,ss) is the demand for scenario (s,ss)\n",
    "for s = 1:D, ss = 1:D\n",
    "    d[1,s,ss] = s\n",
    "    d[2,s,ss] = ss\n",
    "end\n",
    "\n",
    "\n",
    "m = Model(with_optimizer(OPTIMIZER))\n",
    "\n",
    "@variables(m,begin\n",
    "    0<= u[1:T,1:D,1:D] <= U  # bought flowers at beginning of day t\n",
    "    v[1:T,1:D,1:D] >= 0      # sold flowers during day t\n",
    "    end)     \n",
    "\n",
    "@objective(m, Min, 1/D^2*sum(c*u[t,s,ss]-p*v[t,s,ss] for t = 1:T, s = 1:D, ss = 1:D))\n",
    "\n",
    "#YOUR CODE HERE\n",
    "error(\"to be implemented\")\n",
    "       \n",
    "optimize!(m)\n",
    "@show(objective_value(m))\n",
    "round.(value.(u[1,:,:]),digits=2)"
   ]
  },
  {
   "cell_type": "markdown",
   "metadata": {
    "deletable": false,
    "editable": false,
    "nbgrader": {
     "cell_type": "markdown",
     "checksum": "e05f58932eb5f8847641c6d5b53ef148",
     "grade": false,
     "grade_id": "cell-c1ab6ac9bbc6270",
     "locked": true,
     "schema_version": 3,
     "solution": false,
     "task": false
    }
   },
   "source": [
    "### Question 2.5 (Optional)\n",
    "\n",
    "By suppressing constraints in the splitted version, find the lower-bound given by the 2 stage-approach."
   ]
  },
  {
   "cell_type": "code",
   "execution_count": null,
   "metadata": {
    "deletable": false,
    "nbgrader": {
     "cell_type": "code",
     "checksum": "5f930f15595243e12f6b0a5414bf62f3",
     "grade": true,
     "grade_id": "cell-9610973aae",
     "locked": false,
     "points": 2,
     "schema_version": 3,
     "solution": true,
     "task": false
    }
   },
   "outputs": [],
   "source": [
    "T = 2\n",
    "\n",
    "d = zeros(T,D,D) # d(t,s,ss) is the demand for scenario (s,ss)\n",
    "for s = 1:D, ss = 1:D\n",
    "    d[1,s,ss] = s\n",
    "    d[2,s,ss] = ss\n",
    "end\n",
    "\n",
    "\n",
    "m = Model(with_optimizer(OPTIMIZER))\n",
    "\n",
    "@variables(m,begin\n",
    "    0<= u[1:T,1:D,1:D] <= U  # bought flowers at beginning of day t\n",
    "    v[1:T,1:D,1:D] >= 0      # sold flowers during day t\n",
    "    end)     \n",
    "\n",
    "@objective(m, Min, 1/D^2*sum(c*u[t,s,ss]-p*v[t,s,ss] for t = 1:T, s = 1:D, ss = 1:D))\n",
    "\n",
    "#YOUR CODE HERE\n",
    "error(\"to be implemented\")\n",
    "\n",
    "optimize!(m)\n",
    "@show(objective_value(m))\n",
    "round.(value.(u[1,:,:]),digits=2)"
   ]
  },
  {
   "cell_type": "markdown",
   "metadata": {
    "deletable": false,
    "editable": false,
    "nbgrader": {
     "cell_type": "markdown",
     "checksum": "d8907cc196c0991c6bd86aca1063ca72",
     "grade": false,
     "grade_id": "cell-495d655eb6ce3a86",
     "locked": true,
     "schema_version": 3,
     "solution": false,
     "task": false
    }
   },
   "source": [
    "## Question 4\n",
    "\n",
    "We assume now that we work on a week, that is $T=10$. \n",
    "\n",
    "### Question 4.1  \n",
    "how many variables have the extended formulation ? "
   ]
  },
  {
   "cell_type": "markdown",
   "metadata": {
    "deletable": false,
    "nbgrader": {
     "cell_type": "markdown",
     "checksum": "1d3bcca5b12d092771545c5d126d04f5",
     "grade": true,
     "grade_id": "cell-0a658c4c5bba62a1",
     "locked": false,
     "points": 0,
     "schema_version": 3,
     "solution": true,
     "task": false
    }
   },
   "source": [
    "YOUR ANSWER HERE"
   ]
  },
  {
   "cell_type": "markdown",
   "metadata": {
    "deletable": false,
    "editable": false,
    "nbgrader": {
     "cell_type": "markdown",
     "checksum": "036f4b3c272f712a8fc149568400c87f",
     "grade": false,
     "grade_id": "cell-0a4a7340321e708c",
     "locked": true,
     "schema_version": 3,
     "solution": false,
     "task": false
    }
   },
   "source": [
    "### Question 4.2 \n",
    "\n",
    "Estimate (by Monte Carlo) the lower-bound given by the anticipative approach."
   ]
  },
  {
   "cell_type": "code",
   "execution_count": null,
   "metadata": {
    "deletable": false,
    "editable": false,
    "nbgrader": {
     "cell_type": "code",
     "checksum": "f628bac7c5d92d69bd8d2dc797666a95",
     "grade": false,
     "grade_id": "cell-89d98ae49e29ddcc",
     "locked": true,
     "schema_version": 3,
     "solution": false,
     "task": false
    }
   },
   "outputs": [],
   "source": [
    "## We define an helper function that print a (Gaussian) Monte Carlo estimate from a vector of results\n",
    "\n",
    "function mc(res)\n",
    "    Nmc = length(res)\n",
    "    print(round(mean(res);sigdigits=1),\" +/- \",round(1.96*std(res)/sqrt(Nmc);sigdigits=2)) \n",
    "end"
   ]
  },
  {
   "cell_type": "code",
   "execution_count": null,
   "metadata": {
    "deletable": false,
    "nbgrader": {
     "cell_type": "code",
     "checksum": "fdb008f613fd0f960b301d038d6af73d",
     "grade": true,
     "grade_id": "cell-4257c0aad137f6d8",
     "locked": false,
     "points": 0,
     "schema_version": 3,
     "solution": true,
     "task": false
    }
   },
   "outputs": [],
   "source": [
    "#YOUR CODE HERE\n",
    "error(\"to be implemented\")"
   ]
  },
  {
   "cell_type": "markdown",
   "metadata": {
    "deletable": false,
    "editable": false,
    "nbgrader": {
     "cell_type": "markdown",
     "checksum": "515abf929c47344d8fcce60ab66b28bc",
     "grade": false,
     "grade_id": "cell-7a4ea76dc5e3bbe4",
     "locked": true,
     "schema_version": 3,
     "solution": false,
     "task": false
    }
   },
   "source": [
    "### Question 4.3 \n",
    "\n",
    "Evaluate (by Monte Carlo) the heuristic consisting in buying the same amount $u$ of flower everyday, for $u = 0..m$, and give an upper bound to the problem."
   ]
  },
  {
   "cell_type": "code",
   "execution_count": null,
   "metadata": {
    "deletable": false,
    "nbgrader": {
     "cell_type": "code",
     "checksum": "2ee91eed125c66ce211fcdbb2cfe4317",
     "grade": true,
     "grade_id": "cell-f4207f877933433c",
     "locked": false,
     "points": 0,
     "schema_version": 3,
     "solution": true,
     "task": false
    }
   },
   "outputs": [],
   "source": [
    "#YOUR CODE HERE\n",
    "error(\"to be implemented\")"
   ]
  },
  {
   "cell_type": "markdown",
   "metadata": {
    "deletable": false,
    "editable": false,
    "nbgrader": {
     "cell_type": "markdown",
     "checksum": "40570efbb822c2fa5abda42479af3b5f",
     "grade": false,
     "grade_id": "cell-4e67552157665362",
     "locked": true,
     "schema_version": 3,
     "solution": false,
     "task": false
    }
   },
   "source": [
    "## Question 5 Dynamic Programming\n",
    "\n",
    "\n",
    "### Question 5.1\n",
    "Show that the optimal stock at the end of day is integer and no more than $D$."
   ]
  },
  {
   "cell_type": "markdown",
   "metadata": {
    "deletable": false,
    "nbgrader": {
     "cell_type": "markdown",
     "checksum": "24a993853f2af7833b24b2916e4a344b",
     "grade": true,
     "grade_id": "cell-04d202f092582f3b",
     "locked": false,
     "points": 0,
     "schema_version": 3,
     "solution": true,
     "task": false
    }
   },
   "source": [
    "YOUR ANSWER HERE"
   ]
  },
  {
   "cell_type": "markdown",
   "metadata": {
    "deletable": false,
    "editable": false,
    "nbgrader": {
     "cell_type": "markdown",
     "checksum": "8a949a8668f5e72f497d0555f4ca32d9",
     "grade": false,
     "grade_id": "cell-c154ad3c6c93d701",
     "locked": true,
     "schema_version": 3,
     "solution": false,
     "task": false
    }
   },
   "source": [
    "### Question 5.2 \n",
    "How many operations are required to solve the problem by Dynamic Programming ? How many scenarios for an extended formulation ?"
   ]
  },
  {
   "cell_type": "markdown",
   "metadata": {
    "deletable": false,
    "nbgrader": {
     "cell_type": "markdown",
     "checksum": "c3689541ad70b18e9a9ec9ae81a751e8",
     "grade": true,
     "grade_id": "cell-574bee47c3dd9bfc",
     "locked": false,
     "points": 0,
     "schema_version": 3,
     "solution": true,
     "task": false
    }
   },
   "source": [
    "YOUR ANSWER HERE"
   ]
  },
  {
   "cell_type": "markdown",
   "metadata": {
    "deletable": false,
    "editable": false,
    "nbgrader": {
     "cell_type": "markdown",
     "checksum": "465e1dc29b050e2ae84b8a278d89b4f4",
     "grade": false,
     "grade_id": "cell-43b086759d6ccdcc",
     "locked": true,
     "schema_version": 3,
     "solution": false,
     "task": false
    }
   },
   "source": [
    "### Question 5.3\n",
    "Find the optimal value of the flower-girl problem by Dynamic Programming. Describe the optimal strategy."
   ]
  },
  {
   "cell_type": "code",
   "execution_count": null,
   "metadata": {
    "deletable": false,
    "nbgrader": {
     "cell_type": "code",
     "checksum": "e1b39f6225bb45d5de3ffb2abaf46fff",
     "grade": true,
     "grade_id": "cell-fd78fc4534229a16",
     "locked": false,
     "points": 0,
     "schema_version": 3,
     "solution": true,
     "task": false
    }
   },
   "outputs": [],
   "source": [
    "#YOUR CODE HERE\n",
    "error(\"to be implemented\")"
   ]
  },
  {
   "cell_type": "markdown",
   "metadata": {
    "deletable": false,
    "editable": false,
    "nbgrader": {
     "cell_type": "markdown",
     "checksum": "7f8b3571895b27c6eedc4387db4fceef",
     "grade": false,
     "grade_id": "cell-98a270364b55a462",
     "locked": true,
     "schema_version": 3,
     "solution": false,
     "task": false
    }
   },
   "source": [
    "Tested JuMP 0.20 / Julia 1.2"
   ]
  },
  {
   "cell_type": "markdown",
   "metadata": {
    "deletable": false,
    "editable": false,
    "nbgrader": {
     "cell_type": "markdown",
     "checksum": "a25c8c64454289f0414d6943b2edd992",
     "grade": false,
     "grade_id": "cell-17a9fd3ea217acd9",
     "locked": true,
     "schema_version": 3,
     "solution": false,
     "task": false
    }
   },
   "source": [
    "## Question 3 (Optional)\n",
    "\n",
    "We assume here that $T=3$\n",
    "\n",
    "### Question 3.1 (Optional)\n",
    "\n",
    "Solve the flower girl problem with a stochastic programming approach, by solving the associated extensive formulation. \n"
   ]
  },
  {
   "cell_type": "code",
   "execution_count": null,
   "metadata": {
    "deletable": false,
    "nbgrader": {
     "cell_type": "code",
     "checksum": "31368a0888a9d370d22db509f25558be",
     "grade": true,
     "grade_id": "cell-04ac9aa12a998fc6",
     "locked": false,
     "points": 2,
     "schema_version": 3,
     "solution": true,
     "task": false
    }
   },
   "outputs": [],
   "source": [
    "T = 3\n",
    "\n",
    "#YOUR CODE HERE\n",
    "error(\"to be implemented\")\n",
    "\n",
    "optimize!(m)\n",
    "objective_value(m)"
   ]
  },
  {
   "cell_type": "markdown",
   "metadata": {
    "deletable": false,
    "editable": false,
    "nbgrader": {
     "cell_type": "markdown",
     "checksum": "55713f7fc7fbd5f1566f2766faf414bd",
     "grade": false,
     "grade_id": "cell-f6586972911f53df",
     "locked": true,
     "schema_version": 3,
     "solution": false,
     "task": false
    }
   },
   "source": [
    "### Question 3.2 (Optional)\n",
    "\n",
    "Give the flower-girl problem for $3$ time step with splitted variables.\n",
    "Check that you obtain the same value as before.  "
   ]
  },
  {
   "cell_type": "code",
   "execution_count": null,
   "metadata": {
    "deletable": false,
    "nbgrader": {
     "cell_type": "code",
     "checksum": "5779cb689102cd88a42cf9c8260c4b66",
     "grade": true,
     "grade_id": "cell-4918e3cbd949bef5",
     "locked": false,
     "points": 0,
     "schema_version": 3,
     "solution": true,
     "task": false
    }
   },
   "outputs": [],
   "source": [
    "T = 3\n",
    "\n",
    "#YOUR CODE HERE\n",
    "error(\"to be implemented\")\n",
    "                       "
   ]
  },
  {
   "cell_type": "markdown",
   "metadata": {
    "deletable": false,
    "editable": false,
    "nbgrader": {
     "cell_type": "markdown",
     "checksum": "a60cca29b55ee5035b14fe633963dcd3",
     "grade": false,
     "grade_id": "cell-46567b87fe7293fd",
     "locked": true,
     "schema_version": 3,
     "solution": false,
     "task": false
    }
   },
   "source": [
    "### Question 3.3 (Optional)\n",
    "\n",
    "By suppressing constraints in the splitted version, find the lower-bound given by the anticipative approach.\n"
   ]
  },
  {
   "cell_type": "code",
   "execution_count": null,
   "metadata": {
    "deletable": false,
    "nbgrader": {
     "cell_type": "code",
     "checksum": "b039426b427d7dd5b6bc9153d0f3b862",
     "grade": true,
     "grade_id": "cell-58334dbf230fe699",
     "locked": false,
     "points": 0,
     "schema_version": 3,
     "solution": true,
     "task": false
    }
   },
   "outputs": [],
   "source": [
    "T = 3\n",
    "\n",
    "d = zeros(T,D,D,D)\n",
    "for s = 1:D, ss = 1:D, sss = 1:D\n",
    "    d[1,s,ss,sss] = s\n",
    "    d[2,s,ss,sss] = ss\n",
    "    d[3,s,ss,sss] = sss\n",
    "end\n",
    "\n",
    "\n",
    "m = Model(with_optimizer(OPTIMIZER))\n",
    "\n",
    "@variable(m,0<= u[1:T,1:D,1:D,1:D] <= U )\n",
    "@variable(m, v[1:T,1:D,1:D,1:D] >= 0)\n",
    "\n",
    "@objective(m, Min, 1/D^3*sum(c*u[t,s,ss,sss]-p*v[t,s,ss,sss] for t = 1:T, s = 1:D, ss = 1:D, sss = 1:D))\n",
    "\n",
    "#YOUR CODE HERE\n",
    "error(\"to be implemented\")\n",
    "\n",
    "optimize!(m)\n",
    "@show(objective_value(m))\n",
    "@show(value.(u)[1,:,:,1])\n",
    "                       "
   ]
  },
  {
   "cell_type": "markdown",
   "metadata": {
    "deletable": false,
    "editable": false,
    "nbgrader": {
     "cell_type": "markdown",
     "checksum": "cfd7840bbf8aeadae96fb63b6e1c463e",
     "grade": false,
     "grade_id": "cell-c1ab6ac9bbc6270b",
     "locked": true,
     "schema_version": 3,
     "solution": false,
     "task": false
    }
   },
   "source": [
    "### Question 3.4 (Optional)\n",
    "\n",
    "By suppressing constraints in the splitted version, find the lower-bound given by the 2 stage-approach."
   ]
  },
  {
   "cell_type": "code",
   "execution_count": null,
   "metadata": {
    "deletable": false,
    "nbgrader": {
     "cell_type": "code",
     "checksum": "0922e064bc76c8973bfc44c1d11d8ee2",
     "grade": true,
     "grade_id": "cell-9610973aaeb65f4a",
     "locked": false,
     "points": 2,
     "schema_version": 3,
     "solution": true,
     "task": false
    }
   },
   "outputs": [],
   "source": [
    "T = 3\n",
    "\n",
    "#YOUR CODE HERE\n",
    "error(\"to be implemented\")\n",
    "\n",
    "       \n",
    "optimize!(m)\n",
    "@show(objective_value(m))\n",
    "@show(value.(u)[1,:,:,1])"
   ]
  },
  {
   "cell_type": "markdown",
   "metadata": {},
   "source": [
    "## Fin de question 4"
   ]
  },
  {
   "cell_type": "markdown",
   "metadata": {
    "deletable": false,
    "editable": false,
    "nbgrader": {
     "cell_type": "markdown",
     "checksum": "8d46dcdaa84ae7c310f77d8e16377558",
     "grade": false,
     "grade_id": "cell-eaeba837ba11dc14",
     "locked": true,
     "schema_version": 3,
     "solution": false,
     "task": false
    }
   },
   "source": [
    "### Question 4.4 (Optional)\n",
    "\n",
    "Evaluate (by Monte Carlo) a model predictive approach of the problem using the expectation of demand as prediction. Compare it with using the best constant $u$."
   ]
  },
  {
   "cell_type": "code",
   "execution_count": null,
   "metadata": {
    "deletable": false,
    "nbgrader": {
     "cell_type": "code",
     "checksum": "1fbbe0ae13c61788a87a9c8d2d708b73",
     "grade": true,
     "grade_id": "cell-d5bf41af0698c384",
     "locked": false,
     "points": 0,
     "schema_version": 3,
     "solution": true,
     "task": false
    }
   },
   "outputs": [],
   "source": [
    "\n",
    "## Define an OLFO policy using the mean\n",
    "function MPC_control(t,stock)\n",
    "    # return the value of the MPC control at time t starting from stock\n",
    "    \n",
    "    #YOUR CODE HERE\n",
    "    error(\"to be implemented\")\n",
    "end\n",
    "\n",
    "# evaluate the strategy by Monte Carlo\n",
    "Nmc = 10^3\n",
    "\n",
    "#YOUR CODE HERE\n",
    "error(\"to be implemented\")"
   ]
  },
  {
   "cell_type": "markdown",
   "metadata": {
    "deletable": false,
    "editable": false,
    "nbgrader": {
     "cell_type": "markdown",
     "checksum": "216ee988bf6f60dd5431a0abc955e293",
     "grade": false,
     "grade_id": "cell-227cbcddf027968a",
     "locked": true,
     "schema_version": 3,
     "solution": false,
     "task": false
    }
   },
   "source": [
    "### Question 4.5 (Optional)\n",
    "\n",
    "Give a lower bound obtained from a two-stage approximation. "
   ]
  },
  {
   "cell_type": "code",
   "execution_count": null,
   "metadata": {
    "deletable": false,
    "nbgrader": {
     "cell_type": "code",
     "checksum": "d8b6b535367f078a015f2638a73e6d7c",
     "grade": true,
     "grade_id": "cell-c4452ab66e0de663",
     "locked": false,
     "points": 0,
     "schema_version": 3,
     "solution": true,
     "task": false
    }
   },
   "outputs": [],
   "source": [
    "#YOUR CODE HERE\n",
    "error(\"to be implemented\")"
   ]
  },
  {
   "cell_type": "markdown",
   "metadata": {
    "deletable": false,
    "editable": false,
    "nbgrader": {
     "cell_type": "markdown",
     "checksum": "e648e72f1a5bd84ceb220be1c7b18b09",
     "grade": false,
     "grade_id": "cell-e3a74fa7de9759e6",
     "locked": true,
     "schema_version": 3,
     "solution": false,
     "task": false
    }
   },
   "source": [
    "### Question 4.6 (Optional) \n",
    "\n",
    "Evaluate the repeated two-stage approach."
   ]
  },
  {
   "cell_type": "code",
   "execution_count": null,
   "metadata": {
    "deletable": false,
    "nbgrader": {
     "cell_type": "code",
     "checksum": "d99413a29a296182970c87d5bf44baf0",
     "grade": true,
     "grade_id": "cell-d205f20d1559382a",
     "locked": false,
     "points": 0,
     "schema_version": 3,
     "solution": true,
     "task": false
    }
   },
   "outputs": [],
   "source": [
    "#YOUR CODE HERE\n",
    "error(\"to be implemented\")"
   ]
  }
 ],
 "metadata": {
  "@webio": {
   "lastCommId": null,
   "lastKernelId": null
  },
  "kernelspec": {
   "display_name": "Julia 1.2.0",
   "language": "julia",
   "name": "julia-1.2"
  },
  "language_info": {
   "file_extension": ".jl",
   "mimetype": "application/julia",
   "name": "julia",
   "version": "1.2.0"
  },
  "toc": {
   "base_numbering": 1,
   "nav_menu": {},
   "number_sections": true,
   "sideBar": true,
   "skip_h1_title": false,
   "title_cell": "Table of Contents",
   "title_sidebar": "Contents",
   "toc_cell": true,
   "toc_position": {},
   "toc_section_display": true,
   "toc_window_display": false
  }
 },
 "nbformat": 4,
 "nbformat_minor": 1
}

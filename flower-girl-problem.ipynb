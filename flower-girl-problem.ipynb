{
 "cells": [
  {
   "cell_type": "markdown",
   "metadata": {},
   "source": [
    "# The flower girl problem\n",
    "\n",
    "\n",
    "Assume that every morning you can buy some flower at cost $c$, during the day you can sell them at price $p$. At the end of the day you can keep the flowers for the next day.\n",
    "During each day the demand is an integer uniformly taken between $1$ and $D$.\n",
    "\n",
    "At the start of your first day you have no flower in stock. At the end of the $T^{th}$ day all stock is lost. You want to minimize your expected loss summed over the $T$ days. We will denote $u_t$ the number of flower bought at the beginning of day $t$. We assume that $u_t\\in [0,U]$ (in particular we assume that it is continuous).\n",
    "\n",
    "The parameters are set as follow."
   ]
  },
  {
   "cell_type": "code",
   "execution_count": null,
   "metadata": {},
   "outputs": [],
   "source": [
    "import Pkg\n",
    "Pkg.add(\"JuMP\")\n",
    "Pkg.add(\"GLPK\")"
   ]
  },
  {
   "cell_type": "code",
   "execution_count": null,
   "metadata": {
    "scrolled": true
   },
   "outputs": [],
   "source": [
    "using JuMP, GLPK, Statistics\n",
    "\n",
    "OPTIMIZER = GLPK.Optimizer\n",
    "\n",
    "c = 1\n",
    "p = 2\n",
    "D = 10 #was N\n",
    "U = 7 #was M"
   ]
  },
  {
   "cell_type": "markdown",
   "metadata": {},
   "source": [
    "## Question 1\n",
    "\n",
    "If $T=1$, what is the flower girl problem ? Solve it with a JuMP model"
   ]
  },
  {
   "cell_type": "markdown",
   "metadata": {},
   "source": []
  },
  {
   "cell_type": "code",
   "execution_count": null,
   "metadata": {},
   "outputs": [],
   "source": [
    "T = 1\n",
    "\n",
    "d = zeros(T,D)\n",
    "for s = 1:D\n",
    "    d[:,s] .= s\n",
    "end\n",
    "\n",
    "\n",
    "m = Model(with_optimizer(OPTIMIZER))\n",
    "\n",
    "@variable(m,0 <= u1 <= U)\n",
    "@variable(m,v1[1:D] >= 0)\n",
    "\n",
    "\n",
    "for s = 1:D\n",
    "    @constraint(m, v1[s] <= d[1,s]) # we sell no more than demand\n",
    "    @constraint(m, v1[s] <= u1)     # we sell no more than stock\n",
    "end\n",
    "\n",
    "\n",
    "@objective(m, Min, c*u1 \n",
    "                    + 1/D*sum( -p*v1[s] for s = 1:D) ) \n",
    "\n",
    "optimize!(m)\n",
    "objective_value(m)"
   ]
  },
  {
   "cell_type": "markdown",
   "metadata": {},
   "source": [
    "## Question 2\n",
    "\n",
    "We consider now that $T=2$.\n",
    "\n",
    "### Question 2.1 \n",
    "From Question 1 deduce an upper bound to this problem.\n",
    "\n"
   ]
  },
  {
   "cell_type": "markdown",
   "metadata": {},
   "source": []
  },
  {
   "cell_type": "markdown",
   "metadata": {},
   "source": [
    "### Question 2.2\n",
    "Solve the flower-girl problem with a stochastic programming approach, by solving the associated extensive formulation."
   ]
  },
  {
   "cell_type": "code",
   "execution_count": null,
   "metadata": {},
   "outputs": [],
   "source": []
  },
  {
   "cell_type": "markdown",
   "metadata": {},
   "source": [
    "## Question 3\n",
    "\n",
    "We assume here that $T=3$\n",
    "\n",
    "### Question 3.1 \n",
    "\n",
    "Solve the flower girl problem with a stochastic programming approach, by solving the associated extensive formulation. \n"
   ]
  },
  {
   "cell_type": "code",
   "execution_count": null,
   "metadata": {},
   "outputs": [],
   "source": []
  },
  {
   "cell_type": "markdown",
   "metadata": {},
   "source": [
    "## Question 3.2 \n",
    "\n",
    "We give the flower-girl problem with splitted variables. Check that you obtain the same value as before.  "
   ]
  },
  {
   "cell_type": "code",
   "execution_count": null,
   "metadata": {},
   "outputs": [],
   "source": [
    "T = 3\n",
    "\n",
    "d = zeros(T,D,D,D)\n",
    "for s = 1:D, ss = 1:D, sss = 1:D\n",
    "    d[1,s,ss,sss] = s\n",
    "    d[2,s,ss,sss] = ss\n",
    "    d[3,s,ss,sss] = sss\n",
    "end\n",
    "\n",
    "\n",
    "m = Model(with_optimizer(OPTIMIZER))\n",
    "\n",
    "@variable(m,0<= u[1:T,1:D,1:D,1:D] <= U )\n",
    "@variable(m, v[1:T,1:D,1:D,1:D] >= 0)\n",
    "\n",
    "for t = 1:T, s = 1:D, ss = 1:D, sss = 1:D\n",
    "    @constraint(m, v[t,s,ss,sss] <= d[t,s,ss,sss]) # we sell no more than demand\n",
    "    @constraint(m, sum(v[tt,s,ss,sss]-u[tt,s,ss,sss] for tt=1:t) <= 0) # we sell no more than stock\n",
    "end\n",
    "\n",
    "    ### u1 is the same for all scenarios\n",
    "for s = 1:D, ss = 1:D, sss = 1:D\n",
    "    @constraint(m,u[1,s,ss,sss] == 1/D^3 *sum( u[1,t,tt,ttt] for t=1:D, tt=1:D, ttt=1:D))\n",
    "end\n",
    "        \n",
    "        ### u2 and v1 are d1 measurable\n",
    "for s = 1:D, ss = 1:D, sss = 1:D\n",
    "    @constraint(m,u[2,s,ss,sss] == 1/D^2 *sum( u[2,s,tt,ttt] for tt=1:D, ttt=1:D))\n",
    "    @constraint(m,v[1,s,ss,sss] == 1/D^2 *sum( v[1,s,tt,ttt] for tt=1:D, ttt=1:D))\n",
    "end\n",
    "    \n",
    "        ### u3 and v2 are d1,d2 measurable\n",
    "for s = 1:D, ss = 1:D, sss = 1:D\n",
    "    @constraint(m,u[3,s,ss,sss] == 1/D *sum( u[3,s,ss,ttt] for ttt=1:D))\n",
    "    @constraint(m,v[2,s,ss,sss] == 1/D *sum( v[2,s,ss,ttt] for ttt=1:D))\n",
    "end\n",
    "\n",
    "@objective(m, Min, 1/D^3*sum(c*u[t,s,ss,sss]-p*v[t,s,ss,sss] for t = 1:T, s = 1:D, ss = 1:D, sss = 1:D))\n",
    "\n",
    "       \n",
    "optimize!(m)\n",
    "@show(objective_value(m))\n",
    "                       "
   ]
  },
  {
   "cell_type": "markdown",
   "metadata": {},
   "source": [
    "### Question 3.3\n",
    "\n",
    "By suppressing constraints in the splitted version, find the lower-bound given by the anticipative approach.\n"
   ]
  },
  {
   "cell_type": "code",
   "execution_count": null,
   "metadata": {},
   "outputs": [],
   "source": [
    "\n",
    "                       "
   ]
  },
  {
   "cell_type": "markdown",
   "metadata": {},
   "source": [
    "### Question 3.4\n",
    "\n",
    "By suppressing constraints in the splitted version, find the lower-bound given by the 2 stage-approach."
   ]
  },
  {
   "cell_type": "code",
   "execution_count": null,
   "metadata": {},
   "outputs": [],
   "source": []
  },
  {
   "cell_type": "markdown",
   "metadata": {},
   "source": [
    "## Question 4\n",
    "\n",
    "We assume now that we work on a week, that is $T=5$. \n",
    "\n",
    "### Question 4.1  \n",
    "how many variables have the extended formulation ? "
   ]
  },
  {
   "cell_type": "markdown",
   "metadata": {},
   "source": [
    "\n"
   ]
  },
  {
   "cell_type": "markdown",
   "metadata": {},
   "source": [
    "### Question 4.2 (Optional)\n",
    "\n",
    "Estimate (by Monte Carlo) the lower-bound given by the anticipative approach."
   ]
  },
  {
   "cell_type": "code",
   "execution_count": null,
   "metadata": {},
   "outputs": [],
   "source": []
  },
  {
   "cell_type": "markdown",
   "metadata": {},
   "source": [
    "### Question 4.3 (Optional)\n",
    "\n",
    "Evaluate (by Monte Carlo) the heuristic consisting in buying the same amount $u$ of flower everyday, for $u = 0..m$, and give an upper bound to the problem."
   ]
  },
  {
   "cell_type": "code",
   "execution_count": null,
   "metadata": {},
   "outputs": [],
   "source": []
  },
  {
   "cell_type": "markdown",
   "metadata": {},
   "source": [
    "## Question 5\n",
    "\n",
    "Now assume that $T=10$. \n",
    "\n",
    "### Question 5.1\n",
    "Show that the optimal stock at the end of day is integer and no more than $N$."
   ]
  },
  {
   "cell_type": "markdown",
   "metadata": {},
   "source": []
  },
  {
   "cell_type": "markdown",
   "metadata": {},
   "source": [
    "### Question 5.2 \n",
    "How many operations are required to solve the problem by Dynamic Programming ? "
   ]
  },
  {
   "cell_type": "code",
   "execution_count": null,
   "metadata": {},
   "outputs": [],
   "source": []
  },
  {
   "cell_type": "markdown",
   "metadata": {},
   "source": [
    "### Question 5.3\n",
    "Find the optimal value of the flower-girl problem by Dynamic Programming. "
   ]
  },
  {
   "cell_type": "code",
   "execution_count": null,
   "metadata": {},
   "outputs": [],
   "source": []
  },
  {
   "cell_type": "markdown",
   "metadata": {},
   "source": [
    "Teste Julia 1.2"
   ]
  }
 ],
 "metadata": {
  "@webio": {
   "lastCommId": null,
   "lastKernelId": null
  },
  "kernelspec": {
   "display_name": "Julia 1.2.0",
   "language": "julia",
   "name": "julia-1.2"
  },
  "language_info": {
   "file_extension": ".jl",
   "mimetype": "application/julia",
   "name": "julia",
   "version": "1.2.0"
  }
 },
 "nbformat": 4,
 "nbformat_minor": 1
}
